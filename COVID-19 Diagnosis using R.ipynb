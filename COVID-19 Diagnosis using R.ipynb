{
  "nbformat": 4,
  "nbformat_minor": 0,
  "metadata": {
    "colab": {
      "provenance": []
    },
    "kernelspec": {
      "name": "ir",
      "display_name": "R"
    },
    "language_info": {
      "name": "R"
    },
    "gpuClass": "standard"
  },
  "cells": [
    {
      "cell_type": "markdown",
      "source": [
        "DATASET:\n",
        "https://www.kaggle.com/datasets/S%C3%ADrio-Libanes/covid19\n"
      ],
      "metadata": {
        "id": "GmYVaK9reLtj"
      }
    },
    {
      "cell_type": "markdown",
      "source": [
        "# **Random Forest**"
      ],
      "metadata": {
        "id": "AvetoPWzJsGg"
      }
    },
    {
      "cell_type": "markdown",
      "source": [
        "## Loading Packages\n"
      ],
      "metadata": {
        "id": "zUUp-Cuvid2i"
      }
    },
    {
      "cell_type": "code",
      "source": [
        "install.packages(\"randomForest\")"
      ],
      "metadata": {
        "colab": {
          "base_uri": "https://localhost:8080/"
        },
        "id": "yrNL6-yQ2D48",
        "outputId": "c92cd9cc-fab4-46e9-f0ee-2f8bd9ad0107"
      },
      "execution_count": null,
      "outputs": [
        {
          "output_type": "stream",
          "name": "stderr",
          "text": [
            "Installing package into ‘/usr/local/lib/R/site-library’\n",
            "(as ‘lib’ is unspecified)\n",
            "\n"
          ]
        }
      ]
    },
    {
      "cell_type": "code",
      "source": [
        "install.packages(\"caret\")"
      ],
      "metadata": {
        "colab": {
          "base_uri": "https://localhost:8080/"
        },
        "id": "cgl42DV52IEF",
        "outputId": "745bc440-9c44-4a22-ce44-6a104471cca9"
      },
      "execution_count": null,
      "outputs": [
        {
          "output_type": "stream",
          "name": "stderr",
          "text": [
            "Installing package into ‘/usr/local/lib/R/site-library’\n",
            "(as ‘lib’ is unspecified)\n",
            "\n",
            "also installing the dependencies ‘listenv’, ‘parallelly’, ‘future’, ‘globals’, ‘future.apply’, ‘numDeriv’, ‘progressr’, ‘SQUAREM’, ‘lava’, ‘prodlim’, ‘proxy’, ‘iterators’, ‘Rcpp’, ‘clock’, ‘gower’, ‘hardhat’, ‘ipred’, ‘timeDate’, ‘e1071’, ‘foreach’, ‘ModelMetrics’, ‘plyr’, ‘pROC’, ‘recipes’, ‘reshape2’\n",
            "\n",
            "\n"
          ]
        }
      ]
    },
    {
      "cell_type": "code",
      "source": [
        "install.packages(\"caTools\")"
      ],
      "metadata": {
        "id": "SeVJ6eluvHKa",
        "colab": {
          "base_uri": "https://localhost:8080/"
        },
        "outputId": "ed1b7b6b-783a-4ddd-d392-1f7b0f56b33f"
      },
      "execution_count": null,
      "outputs": [
        {
          "output_type": "stream",
          "name": "stderr",
          "text": [
            "Installing package into ‘/usr/local/lib/R/site-library’\n",
            "(as ‘lib’ is unspecified)\n",
            "\n",
            "also installing the dependency ‘bitops’\n",
            "\n",
            "\n"
          ]
        }
      ]
    },
    {
      "cell_type": "code",
      "source": [
        "data<- read.csv(\"/content/Kaggle_Sirio_Libanes_ICU_Prediction.csv\")\n",
        "head(data)"
      ],
      "metadata": {
        "colab": {
          "base_uri": "https://localhost:8080/",
          "height": 306
        },
        "outputId": "f1fce4e4-a707-424c-eba9-8e840baa4df0",
        "id": "4Z4aPVwvuv3p"
      },
      "execution_count": null,
      "outputs": [
        {
          "output_type": "display_data",
          "data": {
            "text/html": [
              "<table class=\"dataframe\">\n",
              "<caption>A data.frame: 6 × 231</caption>\n",
              "<thead>\n",
              "\t<tr><th></th><th scope=col>PATIENT_VISIT_IDENTIFIER</th><th scope=col>AGE_ABOVE65</th><th scope=col>AGE_PERCENTIL</th><th scope=col>GENDER</th><th scope=col>DISEASE.GROUPING.1</th><th scope=col>DISEASE.GROUPING.2</th><th scope=col>DISEASE.GROUPING.3</th><th scope=col>DISEASE.GROUPING.4</th><th scope=col>DISEASE.GROUPING.5</th><th scope=col>DISEASE.GROUPING.6</th><th scope=col>⋯</th><th scope=col>TEMPERATURE_DIFF</th><th scope=col>OXYGEN_SATURATION_DIFF</th><th scope=col>BLOODPRESSURE_DIASTOLIC_DIFF_REL</th><th scope=col>BLOODPRESSURE_SISTOLIC_DIFF_REL</th><th scope=col>HEART_RATE_DIFF_REL</th><th scope=col>RESPIRATORY_RATE_DIFF_REL</th><th scope=col>TEMPERATURE_DIFF_REL</th><th scope=col>OXYGEN_SATURATION_DIFF_REL</th><th scope=col>WINDOW</th><th scope=col>COVID</th></tr>\n",
              "\t<tr><th></th><th scope=col>&lt;int&gt;</th><th scope=col>&lt;int&gt;</th><th scope=col>&lt;chr&gt;</th><th scope=col>&lt;int&gt;</th><th scope=col>&lt;int&gt;</th><th scope=col>&lt;int&gt;</th><th scope=col>&lt;int&gt;</th><th scope=col>&lt;int&gt;</th><th scope=col>&lt;int&gt;</th><th scope=col>&lt;int&gt;</th><th scope=col>⋯</th><th scope=col>&lt;dbl&gt;</th><th scope=col>&lt;dbl&gt;</th><th scope=col>&lt;dbl&gt;</th><th scope=col>&lt;dbl&gt;</th><th scope=col>&lt;dbl&gt;</th><th scope=col>&lt;dbl&gt;</th><th scope=col>&lt;dbl&gt;</th><th scope=col>&lt;dbl&gt;</th><th scope=col>&lt;chr&gt;</th><th scope=col>&lt;int&gt;</th></tr>\n",
              "</thead>\n",
              "<tbody>\n",
              "\t<tr><th scope=row>1</th><td>0</td><td>1</td><td>60th</td><td>0</td><td>0</td><td>0</td><td>0</td><td>0</td><td>1</td><td>1</td><td>⋯</td><td>-1.0000000</td><td>-1.0000000</td><td>-1.0000000</td><td>-1.000000</td><td>-1.0000000</td><td>-1.00000000</td><td>-1.0000000</td><td>-1.000000</td><td>0-2     </td><td>0</td></tr>\n",
              "\t<tr><th scope=row>2</th><td>0</td><td>1</td><td>60th</td><td>0</td><td>0</td><td>0</td><td>0</td><td>0</td><td>1</td><td>1</td><td>⋯</td><td>-1.0000000</td><td>-1.0000000</td><td>-1.0000000</td><td>-1.000000</td><td>-1.0000000</td><td>-1.00000000</td><td>-1.0000000</td><td>-1.000000</td><td>02-Apr  </td><td>0</td></tr>\n",
              "\t<tr><th scope=row>3</th><td>0</td><td>1</td><td>60th</td><td>0</td><td>0</td><td>0</td><td>0</td><td>0</td><td>1</td><td>1</td><td>⋯</td><td>        NA</td><td>        NA</td><td>        NA</td><td>       NA</td><td>        NA</td><td>         NA</td><td>        NA</td><td>       NA</td><td>04-Jun  </td><td>0</td></tr>\n",
              "\t<tr><th scope=row>4</th><td>0</td><td>1</td><td>60th</td><td>0</td><td>0</td><td>0</td><td>0</td><td>0</td><td>1</td><td>1</td><td>⋯</td><td>-1.0000000</td><td>-1.0000000</td><td>        NA</td><td>       NA</td><td>        NA</td><td>         NA</td><td>-1.0000000</td><td>-1.000000</td><td>06-Dec  </td><td>0</td></tr>\n",
              "\t<tr><th scope=row>5</th><td>0</td><td>1</td><td>60th</td><td>0</td><td>0</td><td>0</td><td>0</td><td>0</td><td>1</td><td>1</td><td>⋯</td><td>-0.2380952</td><td>-0.8181818</td><td>-0.3899666</td><td> 0.407558</td><td>-0.2304616</td><td> 0.09677419</td><td>-0.2422815</td><td>-0.814433</td><td>ABOVE_12</td><td>1</td></tr>\n",
              "\t<tr><th scope=row>6</th><td>1</td><td>1</td><td>90th</td><td>1</td><td>0</td><td>0</td><td>0</td><td>0</td><td>0</td><td>0</td><td>⋯</td><td>-1.0000000</td><td>-1.0000000</td><td>-1.0000000</td><td>-1.000000</td><td>-1.0000000</td><td>-1.00000000</td><td>-1.0000000</td><td>-1.000000</td><td>0-2     </td><td>1</td></tr>\n",
              "</tbody>\n",
              "</table>\n"
            ],
            "text/markdown": "\nA data.frame: 6 × 231\n\n| <!--/--> | PATIENT_VISIT_IDENTIFIER &lt;int&gt; | AGE_ABOVE65 &lt;int&gt; | AGE_PERCENTIL &lt;chr&gt; | GENDER &lt;int&gt; | DISEASE.GROUPING.1 &lt;int&gt; | DISEASE.GROUPING.2 &lt;int&gt; | DISEASE.GROUPING.3 &lt;int&gt; | DISEASE.GROUPING.4 &lt;int&gt; | DISEASE.GROUPING.5 &lt;int&gt; | DISEASE.GROUPING.6 &lt;int&gt; | ⋯ ⋯ | TEMPERATURE_DIFF &lt;dbl&gt; | OXYGEN_SATURATION_DIFF &lt;dbl&gt; | BLOODPRESSURE_DIASTOLIC_DIFF_REL &lt;dbl&gt; | BLOODPRESSURE_SISTOLIC_DIFF_REL &lt;dbl&gt; | HEART_RATE_DIFF_REL &lt;dbl&gt; | RESPIRATORY_RATE_DIFF_REL &lt;dbl&gt; | TEMPERATURE_DIFF_REL &lt;dbl&gt; | OXYGEN_SATURATION_DIFF_REL &lt;dbl&gt; | WINDOW &lt;chr&gt; | COVID &lt;int&gt; |\n|---|---|---|---|---|---|---|---|---|---|---|---|---|---|---|---|---|---|---|---|---|---|\n| 1 | 0 | 1 | 60th | 0 | 0 | 0 | 0 | 0 | 1 | 1 | ⋯ | -1.0000000 | -1.0000000 | -1.0000000 | -1.000000 | -1.0000000 | -1.00000000 | -1.0000000 | -1.000000 | 0-2      | 0 |\n| 2 | 0 | 1 | 60th | 0 | 0 | 0 | 0 | 0 | 1 | 1 | ⋯ | -1.0000000 | -1.0000000 | -1.0000000 | -1.000000 | -1.0000000 | -1.00000000 | -1.0000000 | -1.000000 | 02-Apr   | 0 |\n| 3 | 0 | 1 | 60th | 0 | 0 | 0 | 0 | 0 | 1 | 1 | ⋯ |         NA |         NA |         NA |        NA |         NA |          NA |         NA |        NA | 04-Jun   | 0 |\n| 4 | 0 | 1 | 60th | 0 | 0 | 0 | 0 | 0 | 1 | 1 | ⋯ | -1.0000000 | -1.0000000 |         NA |        NA |         NA |          NA | -1.0000000 | -1.000000 | 06-Dec   | 0 |\n| 5 | 0 | 1 | 60th | 0 | 0 | 0 | 0 | 0 | 1 | 1 | ⋯ | -0.2380952 | -0.8181818 | -0.3899666 |  0.407558 | -0.2304616 |  0.09677419 | -0.2422815 | -0.814433 | ABOVE_12 | 1 |\n| 6 | 1 | 1 | 90th | 1 | 0 | 0 | 0 | 0 | 0 | 0 | ⋯ | -1.0000000 | -1.0000000 | -1.0000000 | -1.000000 | -1.0000000 | -1.00000000 | -1.0000000 | -1.000000 | 0-2      | 1 |\n\n",
            "text/latex": "A data.frame: 6 × 231\n\\begin{tabular}{r|lllllllllllllllllllll}\n  & PATIENT\\_VISIT\\_IDENTIFIER & AGE\\_ABOVE65 & AGE\\_PERCENTIL & GENDER & DISEASE.GROUPING.1 & DISEASE.GROUPING.2 & DISEASE.GROUPING.3 & DISEASE.GROUPING.4 & DISEASE.GROUPING.5 & DISEASE.GROUPING.6 & ⋯ & TEMPERATURE\\_DIFF & OXYGEN\\_SATURATION\\_DIFF & BLOODPRESSURE\\_DIASTOLIC\\_DIFF\\_REL & BLOODPRESSURE\\_SISTOLIC\\_DIFF\\_REL & HEART\\_RATE\\_DIFF\\_REL & RESPIRATORY\\_RATE\\_DIFF\\_REL & TEMPERATURE\\_DIFF\\_REL & OXYGEN\\_SATURATION\\_DIFF\\_REL & WINDOW & COVID\\\\\n  & <int> & <int> & <chr> & <int> & <int> & <int> & <int> & <int> & <int> & <int> & ⋯ & <dbl> & <dbl> & <dbl> & <dbl> & <dbl> & <dbl> & <dbl> & <dbl> & <chr> & <int>\\\\\n\\hline\n\t1 & 0 & 1 & 60th & 0 & 0 & 0 & 0 & 0 & 1 & 1 & ⋯ & -1.0000000 & -1.0000000 & -1.0000000 & -1.000000 & -1.0000000 & -1.00000000 & -1.0000000 & -1.000000 & 0-2      & 0\\\\\n\t2 & 0 & 1 & 60th & 0 & 0 & 0 & 0 & 0 & 1 & 1 & ⋯ & -1.0000000 & -1.0000000 & -1.0000000 & -1.000000 & -1.0000000 & -1.00000000 & -1.0000000 & -1.000000 & 02-Apr   & 0\\\\\n\t3 & 0 & 1 & 60th & 0 & 0 & 0 & 0 & 0 & 1 & 1 & ⋯ &         NA &         NA &         NA &        NA &         NA &          NA &         NA &        NA & 04-Jun   & 0\\\\\n\t4 & 0 & 1 & 60th & 0 & 0 & 0 & 0 & 0 & 1 & 1 & ⋯ & -1.0000000 & -1.0000000 &         NA &        NA &         NA &          NA & -1.0000000 & -1.000000 & 06-Dec   & 0\\\\\n\t5 & 0 & 1 & 60th & 0 & 0 & 0 & 0 & 0 & 1 & 1 & ⋯ & -0.2380952 & -0.8181818 & -0.3899666 &  0.407558 & -0.2304616 &  0.09677419 & -0.2422815 & -0.814433 & ABOVE\\_12 & 1\\\\\n\t6 & 1 & 1 & 90th & 1 & 0 & 0 & 0 & 0 & 0 & 0 & ⋯ & -1.0000000 & -1.0000000 & -1.0000000 & -1.000000 & -1.0000000 & -1.00000000 & -1.0000000 & -1.000000 & 0-2      & 1\\\\\n\\end{tabular}\n",
            "text/plain": [
              "  PATIENT_VISIT_IDENTIFIER AGE_ABOVE65 AGE_PERCENTIL GENDER DISEASE.GROUPING.1\n",
              "1 0                        1           60th          0      0                 \n",
              "2 0                        1           60th          0      0                 \n",
              "3 0                        1           60th          0      0                 \n",
              "4 0                        1           60th          0      0                 \n",
              "5 0                        1           60th          0      0                 \n",
              "6 1                        1           90th          1      0                 \n",
              "  DISEASE.GROUPING.2 DISEASE.GROUPING.3 DISEASE.GROUPING.4 DISEASE.GROUPING.5\n",
              "1 0                  0                  0                  1                 \n",
              "2 0                  0                  0                  1                 \n",
              "3 0                  0                  0                  1                 \n",
              "4 0                  0                  0                  1                 \n",
              "5 0                  0                  0                  1                 \n",
              "6 0                  0                  0                  0                 \n",
              "  DISEASE.GROUPING.6 ⋯ TEMPERATURE_DIFF OXYGEN_SATURATION_DIFF\n",
              "1 1                  ⋯ -1.0000000       -1.0000000            \n",
              "2 1                  ⋯ -1.0000000       -1.0000000            \n",
              "3 1                  ⋯         NA               NA            \n",
              "4 1                  ⋯ -1.0000000       -1.0000000            \n",
              "5 1                  ⋯ -0.2380952       -0.8181818            \n",
              "6 0                  ⋯ -1.0000000       -1.0000000            \n",
              "  BLOODPRESSURE_DIASTOLIC_DIFF_REL BLOODPRESSURE_SISTOLIC_DIFF_REL\n",
              "1 -1.0000000                       -1.000000                      \n",
              "2 -1.0000000                       -1.000000                      \n",
              "3         NA                              NA                      \n",
              "4         NA                              NA                      \n",
              "5 -0.3899666                        0.407558                      \n",
              "6 -1.0000000                       -1.000000                      \n",
              "  HEART_RATE_DIFF_REL RESPIRATORY_RATE_DIFF_REL TEMPERATURE_DIFF_REL\n",
              "1 -1.0000000          -1.00000000               -1.0000000          \n",
              "2 -1.0000000          -1.00000000               -1.0000000          \n",
              "3         NA                   NA                       NA          \n",
              "4         NA                   NA               -1.0000000          \n",
              "5 -0.2304616           0.09677419               -0.2422815          \n",
              "6 -1.0000000          -1.00000000               -1.0000000          \n",
              "  OXYGEN_SATURATION_DIFF_REL WINDOW   COVID\n",
              "1 -1.000000                  0-2      0    \n",
              "2 -1.000000                  02-Apr   0    \n",
              "3        NA                  04-Jun   0    \n",
              "4 -1.000000                  06-Dec   0    \n",
              "5 -0.814433                  ABOVE_12 1    \n",
              "6 -1.000000                  0-2      1    "
            ]
          },
          "metadata": {}
        }
      ]
    },
    {
      "cell_type": "code",
      "source": [
        "library(\"randomForest\")\n",
        "library(\"caret\")\n",
        "library(\"caTools\")"
      ],
      "metadata": {
        "id": "-8APPgUe2y1I"
      },
      "execution_count": null,
      "outputs": []
    },
    {
      "cell_type": "markdown",
      "source": [
        "## Preprocessing Data"
      ],
      "metadata": {
        "id": "WzZB2SH7lCTZ"
      }
    },
    {
      "cell_type": "code",
      "source": [
        "# Imputation of multiple columns (i.e. the whole data frame)\n",
        "\n",
        "for(i in 1:ncol(data)) {\n",
        "  data[ , i][is.na(data[ , i])] <- median(data[ , i], na.rm = TRUE)\n",
        "}\n",
        "head(data)"
      ],
      "metadata": {
        "colab": {
          "base_uri": "https://localhost:8080/",
          "height": 306
        },
        "id": "aesFKEq-6Mya",
        "outputId": "d10a7d13-a61c-48ca-8fba-c84704b34d07"
      },
      "execution_count": null,
      "outputs": [
        {
          "output_type": "display_data",
          "data": {
            "text/html": [
              "<table class=\"dataframe\">\n",
              "<caption>A data.frame: 6 × 231</caption>\n",
              "<thead>\n",
              "\t<tr><th></th><th scope=col>PATIENT_VISIT_IDENTIFIER</th><th scope=col>AGE_ABOVE65</th><th scope=col>AGE_PERCENTIL</th><th scope=col>GENDER</th><th scope=col>DISEASE.GROUPING.1</th><th scope=col>DISEASE.GROUPING.2</th><th scope=col>DISEASE.GROUPING.3</th><th scope=col>DISEASE.GROUPING.4</th><th scope=col>DISEASE.GROUPING.5</th><th scope=col>DISEASE.GROUPING.6</th><th scope=col>⋯</th><th scope=col>TEMPERATURE_DIFF</th><th scope=col>OXYGEN_SATURATION_DIFF</th><th scope=col>BLOODPRESSURE_DIASTOLIC_DIFF_REL</th><th scope=col>BLOODPRESSURE_SISTOLIC_DIFF_REL</th><th scope=col>HEART_RATE_DIFF_REL</th><th scope=col>RESPIRATORY_RATE_DIFF_REL</th><th scope=col>TEMPERATURE_DIFF_REL</th><th scope=col>OXYGEN_SATURATION_DIFF_REL</th><th scope=col>WINDOW</th><th scope=col>COVID</th></tr>\n",
              "\t<tr><th></th><th scope=col>&lt;int&gt;</th><th scope=col>&lt;int&gt;</th><th scope=col>&lt;chr&gt;</th><th scope=col>&lt;int&gt;</th><th scope=col>&lt;dbl&gt;</th><th scope=col>&lt;dbl&gt;</th><th scope=col>&lt;dbl&gt;</th><th scope=col>&lt;dbl&gt;</th><th scope=col>&lt;dbl&gt;</th><th scope=col>&lt;dbl&gt;</th><th scope=col>⋯</th><th scope=col>&lt;dbl&gt;</th><th scope=col>&lt;dbl&gt;</th><th scope=col>&lt;dbl&gt;</th><th scope=col>&lt;dbl&gt;</th><th scope=col>&lt;dbl&gt;</th><th scope=col>&lt;dbl&gt;</th><th scope=col>&lt;dbl&gt;</th><th scope=col>&lt;dbl&gt;</th><th scope=col>&lt;chr&gt;</th><th scope=col>&lt;int&gt;</th></tr>\n",
              "</thead>\n",
              "<tbody>\n",
              "\t<tr><th scope=row>1</th><td>0</td><td>1</td><td>60th</td><td>0</td><td>0</td><td>0</td><td>0</td><td>0</td><td>1</td><td>1</td><td>⋯</td><td>-1.0000000</td><td>-1.0000000</td><td>-1.0000000</td><td>-1.0000000</td><td>-1.0000000</td><td>-1.00000000</td><td>-1.0000000</td><td>-1.0000000</td><td>0-2     </td><td>0</td></tr>\n",
              "\t<tr><th scope=row>2</th><td>0</td><td>1</td><td>60th</td><td>0</td><td>0</td><td>0</td><td>0</td><td>0</td><td>1</td><td>1</td><td>⋯</td><td>-1.0000000</td><td>-1.0000000</td><td>-1.0000000</td><td>-1.0000000</td><td>-1.0000000</td><td>-1.00000000</td><td>-1.0000000</td><td>-1.0000000</td><td>02-Apr  </td><td>0</td></tr>\n",
              "\t<tr><th scope=row>3</th><td>0</td><td>1</td><td>60th</td><td>0</td><td>0</td><td>0</td><td>0</td><td>0</td><td>1</td><td>1</td><td>⋯</td><td>-0.9761905</td><td>-0.9797980</td><td>-1.0000000</td><td>-0.9849437</td><td>-0.9898219</td><td>-1.00000000</td><td>-0.9759244</td><td>-0.9803331</td><td>04-Jun  </td><td>0</td></tr>\n",
              "\t<tr><th scope=row>4</th><td>0</td><td>1</td><td>60th</td><td>0</td><td>0</td><td>0</td><td>0</td><td>0</td><td>1</td><td>1</td><td>⋯</td><td>-1.0000000</td><td>-1.0000000</td><td>-1.0000000</td><td>-0.9849437</td><td>-0.9898219</td><td>-1.00000000</td><td>-1.0000000</td><td>-1.0000000</td><td>06-Dec  </td><td>0</td></tr>\n",
              "\t<tr><th scope=row>5</th><td>0</td><td>1</td><td>60th</td><td>0</td><td>0</td><td>0</td><td>0</td><td>0</td><td>1</td><td>1</td><td>⋯</td><td>-0.2380952</td><td>-0.8181818</td><td>-0.3899666</td><td> 0.4075580</td><td>-0.2304616</td><td> 0.09677419</td><td>-0.2422815</td><td>-0.8144330</td><td>ABOVE_12</td><td>1</td></tr>\n",
              "\t<tr><th scope=row>6</th><td>1</td><td>1</td><td>90th</td><td>1</td><td>0</td><td>0</td><td>0</td><td>0</td><td>0</td><td>0</td><td>⋯</td><td>-1.0000000</td><td>-1.0000000</td><td>-1.0000000</td><td>-1.0000000</td><td>-1.0000000</td><td>-1.00000000</td><td>-1.0000000</td><td>-1.0000000</td><td>0-2     </td><td>1</td></tr>\n",
              "</tbody>\n",
              "</table>\n"
            ],
            "text/markdown": "\nA data.frame: 6 × 231\n\n| <!--/--> | PATIENT_VISIT_IDENTIFIER &lt;int&gt; | AGE_ABOVE65 &lt;int&gt; | AGE_PERCENTIL &lt;chr&gt; | GENDER &lt;int&gt; | DISEASE.GROUPING.1 &lt;dbl&gt; | DISEASE.GROUPING.2 &lt;dbl&gt; | DISEASE.GROUPING.3 &lt;dbl&gt; | DISEASE.GROUPING.4 &lt;dbl&gt; | DISEASE.GROUPING.5 &lt;dbl&gt; | DISEASE.GROUPING.6 &lt;dbl&gt; | ⋯ ⋯ | TEMPERATURE_DIFF &lt;dbl&gt; | OXYGEN_SATURATION_DIFF &lt;dbl&gt; | BLOODPRESSURE_DIASTOLIC_DIFF_REL &lt;dbl&gt; | BLOODPRESSURE_SISTOLIC_DIFF_REL &lt;dbl&gt; | HEART_RATE_DIFF_REL &lt;dbl&gt; | RESPIRATORY_RATE_DIFF_REL &lt;dbl&gt; | TEMPERATURE_DIFF_REL &lt;dbl&gt; | OXYGEN_SATURATION_DIFF_REL &lt;dbl&gt; | WINDOW &lt;chr&gt; | COVID &lt;int&gt; |\n|---|---|---|---|---|---|---|---|---|---|---|---|---|---|---|---|---|---|---|---|---|---|\n| 1 | 0 | 1 | 60th | 0 | 0 | 0 | 0 | 0 | 1 | 1 | ⋯ | -1.0000000 | -1.0000000 | -1.0000000 | -1.0000000 | -1.0000000 | -1.00000000 | -1.0000000 | -1.0000000 | 0-2      | 0 |\n| 2 | 0 | 1 | 60th | 0 | 0 | 0 | 0 | 0 | 1 | 1 | ⋯ | -1.0000000 | -1.0000000 | -1.0000000 | -1.0000000 | -1.0000000 | -1.00000000 | -1.0000000 | -1.0000000 | 02-Apr   | 0 |\n| 3 | 0 | 1 | 60th | 0 | 0 | 0 | 0 | 0 | 1 | 1 | ⋯ | -0.9761905 | -0.9797980 | -1.0000000 | -0.9849437 | -0.9898219 | -1.00000000 | -0.9759244 | -0.9803331 | 04-Jun   | 0 |\n| 4 | 0 | 1 | 60th | 0 | 0 | 0 | 0 | 0 | 1 | 1 | ⋯ | -1.0000000 | -1.0000000 | -1.0000000 | -0.9849437 | -0.9898219 | -1.00000000 | -1.0000000 | -1.0000000 | 06-Dec   | 0 |\n| 5 | 0 | 1 | 60th | 0 | 0 | 0 | 0 | 0 | 1 | 1 | ⋯ | -0.2380952 | -0.8181818 | -0.3899666 |  0.4075580 | -0.2304616 |  0.09677419 | -0.2422815 | -0.8144330 | ABOVE_12 | 1 |\n| 6 | 1 | 1 | 90th | 1 | 0 | 0 | 0 | 0 | 0 | 0 | ⋯ | -1.0000000 | -1.0000000 | -1.0000000 | -1.0000000 | -1.0000000 | -1.00000000 | -1.0000000 | -1.0000000 | 0-2      | 1 |\n\n",
            "text/latex": "A data.frame: 6 × 231\n\\begin{tabular}{r|lllllllllllllllllllll}\n  & PATIENT\\_VISIT\\_IDENTIFIER & AGE\\_ABOVE65 & AGE\\_PERCENTIL & GENDER & DISEASE.GROUPING.1 & DISEASE.GROUPING.2 & DISEASE.GROUPING.3 & DISEASE.GROUPING.4 & DISEASE.GROUPING.5 & DISEASE.GROUPING.6 & ⋯ & TEMPERATURE\\_DIFF & OXYGEN\\_SATURATION\\_DIFF & BLOODPRESSURE\\_DIASTOLIC\\_DIFF\\_REL & BLOODPRESSURE\\_SISTOLIC\\_DIFF\\_REL & HEART\\_RATE\\_DIFF\\_REL & RESPIRATORY\\_RATE\\_DIFF\\_REL & TEMPERATURE\\_DIFF\\_REL & OXYGEN\\_SATURATION\\_DIFF\\_REL & WINDOW & COVID\\\\\n  & <int> & <int> & <chr> & <int> & <dbl> & <dbl> & <dbl> & <dbl> & <dbl> & <dbl> & ⋯ & <dbl> & <dbl> & <dbl> & <dbl> & <dbl> & <dbl> & <dbl> & <dbl> & <chr> & <int>\\\\\n\\hline\n\t1 & 0 & 1 & 60th & 0 & 0 & 0 & 0 & 0 & 1 & 1 & ⋯ & -1.0000000 & -1.0000000 & -1.0000000 & -1.0000000 & -1.0000000 & -1.00000000 & -1.0000000 & -1.0000000 & 0-2      & 0\\\\\n\t2 & 0 & 1 & 60th & 0 & 0 & 0 & 0 & 0 & 1 & 1 & ⋯ & -1.0000000 & -1.0000000 & -1.0000000 & -1.0000000 & -1.0000000 & -1.00000000 & -1.0000000 & -1.0000000 & 02-Apr   & 0\\\\\n\t3 & 0 & 1 & 60th & 0 & 0 & 0 & 0 & 0 & 1 & 1 & ⋯ & -0.9761905 & -0.9797980 & -1.0000000 & -0.9849437 & -0.9898219 & -1.00000000 & -0.9759244 & -0.9803331 & 04-Jun   & 0\\\\\n\t4 & 0 & 1 & 60th & 0 & 0 & 0 & 0 & 0 & 1 & 1 & ⋯ & -1.0000000 & -1.0000000 & -1.0000000 & -0.9849437 & -0.9898219 & -1.00000000 & -1.0000000 & -1.0000000 & 06-Dec   & 0\\\\\n\t5 & 0 & 1 & 60th & 0 & 0 & 0 & 0 & 0 & 1 & 1 & ⋯ & -0.2380952 & -0.8181818 & -0.3899666 &  0.4075580 & -0.2304616 &  0.09677419 & -0.2422815 & -0.8144330 & ABOVE\\_12 & 1\\\\\n\t6 & 1 & 1 & 90th & 1 & 0 & 0 & 0 & 0 & 0 & 0 & ⋯ & -1.0000000 & -1.0000000 & -1.0000000 & -1.0000000 & -1.0000000 & -1.00000000 & -1.0000000 & -1.0000000 & 0-2      & 1\\\\\n\\end{tabular}\n",
            "text/plain": [
              "  PATIENT_VISIT_IDENTIFIER AGE_ABOVE65 AGE_PERCENTIL GENDER DISEASE.GROUPING.1\n",
              "1 0                        1           60th          0      0                 \n",
              "2 0                        1           60th          0      0                 \n",
              "3 0                        1           60th          0      0                 \n",
              "4 0                        1           60th          0      0                 \n",
              "5 0                        1           60th          0      0                 \n",
              "6 1                        1           90th          1      0                 \n",
              "  DISEASE.GROUPING.2 DISEASE.GROUPING.3 DISEASE.GROUPING.4 DISEASE.GROUPING.5\n",
              "1 0                  0                  0                  1                 \n",
              "2 0                  0                  0                  1                 \n",
              "3 0                  0                  0                  1                 \n",
              "4 0                  0                  0                  1                 \n",
              "5 0                  0                  0                  1                 \n",
              "6 0                  0                  0                  0                 \n",
              "  DISEASE.GROUPING.6 ⋯ TEMPERATURE_DIFF OXYGEN_SATURATION_DIFF\n",
              "1 1                  ⋯ -1.0000000       -1.0000000            \n",
              "2 1                  ⋯ -1.0000000       -1.0000000            \n",
              "3 1                  ⋯ -0.9761905       -0.9797980            \n",
              "4 1                  ⋯ -1.0000000       -1.0000000            \n",
              "5 1                  ⋯ -0.2380952       -0.8181818            \n",
              "6 0                  ⋯ -1.0000000       -1.0000000            \n",
              "  BLOODPRESSURE_DIASTOLIC_DIFF_REL BLOODPRESSURE_SISTOLIC_DIFF_REL\n",
              "1 -1.0000000                       -1.0000000                     \n",
              "2 -1.0000000                       -1.0000000                     \n",
              "3 -1.0000000                       -0.9849437                     \n",
              "4 -1.0000000                       -0.9849437                     \n",
              "5 -0.3899666                        0.4075580                     \n",
              "6 -1.0000000                       -1.0000000                     \n",
              "  HEART_RATE_DIFF_REL RESPIRATORY_RATE_DIFF_REL TEMPERATURE_DIFF_REL\n",
              "1 -1.0000000          -1.00000000               -1.0000000          \n",
              "2 -1.0000000          -1.00000000               -1.0000000          \n",
              "3 -0.9898219          -1.00000000               -0.9759244          \n",
              "4 -0.9898219          -1.00000000               -1.0000000          \n",
              "5 -0.2304616           0.09677419               -0.2422815          \n",
              "6 -1.0000000          -1.00000000               -1.0000000          \n",
              "  OXYGEN_SATURATION_DIFF_REL WINDOW   COVID\n",
              "1 -1.0000000                 0-2      0    \n",
              "2 -1.0000000                 02-Apr   0    \n",
              "3 -0.9803331                 04-Jun   0    \n",
              "4 -1.0000000                 06-Dec   0    \n",
              "5 -0.8144330                 ABOVE_12 1    \n",
              "6 -1.0000000                 0-2      1    "
            ]
          },
          "metadata": {}
        }
      ]
    },
    {
      "cell_type": "code",
      "source": [
        "s <- seq(15,190,by = 5)\n",
        "patdata <- subset(data, select = c(2,4,5:13,s,194:199,231))\n",
        "head(patdata)"
      ],
      "metadata": {
        "colab": {
          "base_uri": "https://localhost:8080/",
          "height": 306
        },
        "id": "jFjLfQwL6gjn",
        "outputId": "5160ede3-1af6-4cfd-e75d-46b4c625b55d"
      },
      "execution_count": null,
      "outputs": [
        {
          "output_type": "display_data",
          "data": {
            "text/html": [
              "<table class=\"dataframe\">\n",
              "<caption>A data.frame: 6 × 54</caption>\n",
              "<thead>\n",
              "\t<tr><th></th><th scope=col>AGE_ABOVE65</th><th scope=col>GENDER</th><th scope=col>DISEASE.GROUPING.1</th><th scope=col>DISEASE.GROUPING.2</th><th scope=col>DISEASE.GROUPING.3</th><th scope=col>DISEASE.GROUPING.4</th><th scope=col>DISEASE.GROUPING.5</th><th scope=col>DISEASE.GROUPING.6</th><th scope=col>HTN</th><th scope=col>IMMUNOCOMPROMISED</th><th scope=col>⋯</th><th scope=col>TTPA_MEAN</th><th scope=col>UREA_MEAN</th><th scope=col>DIMER_MEAN</th><th scope=col>BLOODPRESSURE_DIASTOLIC_MEAN</th><th scope=col>BLOODPRESSURE_SISTOLIC_MEAN</th><th scope=col>HEART_RATE_MEAN</th><th scope=col>RESPIRATORY_RATE_MEAN</th><th scope=col>TEMPERATURE_MEAN</th><th scope=col>OXYGEN_SATURATION_MEAN</th><th scope=col>COVID</th></tr>\n",
              "\t<tr><th></th><th scope=col>&lt;int&gt;</th><th scope=col>&lt;int&gt;</th><th scope=col>&lt;dbl&gt;</th><th scope=col>&lt;dbl&gt;</th><th scope=col>&lt;dbl&gt;</th><th scope=col>&lt;dbl&gt;</th><th scope=col>&lt;dbl&gt;</th><th scope=col>&lt;dbl&gt;</th><th scope=col>&lt;dbl&gt;</th><th scope=col>&lt;dbl&gt;</th><th scope=col>⋯</th><th scope=col>&lt;dbl&gt;</th><th scope=col>&lt;dbl&gt;</th><th scope=col>&lt;dbl&gt;</th><th scope=col>&lt;dbl&gt;</th><th scope=col>&lt;dbl&gt;</th><th scope=col>&lt;dbl&gt;</th><th scope=col>&lt;dbl&gt;</th><th scope=col>&lt;dbl&gt;</th><th scope=col>&lt;dbl&gt;</th><th scope=col>&lt;int&gt;</th></tr>\n",
              "</thead>\n",
              "<tbody>\n",
              "\t<tr><th scope=row>1</th><td>1</td><td>0</td><td>0</td><td>0</td><td>0</td><td>0</td><td>1</td><td>1</td><td>0</td><td>0</td><td>⋯</td><td>-0.8466329</td><td>-0.8746988</td><td>-0.9780288</td><td> 0.08641975</td><td>-0.23076923</td><td>-0.2830189</td><td>-0.5932203</td><td>-0.28571429</td><td>0.7368421</td><td>0</td></tr>\n",
              "\t<tr><th scope=row>2</th><td>1</td><td>0</td><td>0</td><td>0</td><td>0</td><td>0</td><td>1</td><td>1</td><td>0</td><td>0</td><td>⋯</td><td>-0.8466329</td><td>-0.8746988</td><td>-0.9780288</td><td> 0.33333333</td><td>-0.23076923</td><td>-0.1320755</td><td>-0.5932203</td><td> 0.53571429</td><td>0.5789474</td><td>0</td></tr>\n",
              "\t<tr><th scope=row>3</th><td>1</td><td>0</td><td>0</td><td>0</td><td>0</td><td>0</td><td>1</td><td>1</td><td>0</td><td>0</td><td>⋯</td><td>-0.8256131</td><td>-0.8361446</td><td>-0.9949119</td><td>-0.10017217</td><td>-0.37440476</td><td>-0.2830189</td><td>-0.5028249</td><td> 0.03571429</td><td>0.7368421</td><td>0</td></tr>\n",
              "\t<tr><th scope=row>4</th><td>1</td><td>0</td><td>0</td><td>0</td><td>0</td><td>0</td><td>1</td><td>1</td><td>0</td><td>0</td><td>⋯</td><td>-0.8466329</td><td>-0.8746988</td><td>-0.9780288</td><td>-0.10017217</td><td>-0.37440476</td><td>-0.2830189</td><td>-0.5028249</td><td>-0.10714286</td><td>0.7368421</td><td>0</td></tr>\n",
              "\t<tr><th scope=row>5</th><td>1</td><td>0</td><td>0</td><td>0</td><td>0</td><td>0</td><td>1</td><td>1</td><td>0</td><td>0</td><td>⋯</td><td>-0.8466329</td><td>-0.8361446</td><td>-0.9967621</td><td>-0.24302135</td><td>-0.33853733</td><td>-0.2130310</td><td>-0.3178592</td><td> 0.03377903</td><td>0.6659321</td><td>1</td></tr>\n",
              "\t<tr><th scope=row>6</th><td>1</td><td>1</td><td>0</td><td>0</td><td>0</td><td>0</td><td>0</td><td>0</td><td>1</td><td>1</td><td>⋯</td><td>-0.8466329</td><td>-0.8746988</td><td>-0.9780288</td><td>-0.28395062</td><td>-0.04615385</td><td> 0.1886792</td><td> 0.8305085</td><td>-0.10714286</td><td>1.0000000</td><td>1</td></tr>\n",
              "</tbody>\n",
              "</table>\n"
            ],
            "text/markdown": "\nA data.frame: 6 × 54\n\n| <!--/--> | AGE_ABOVE65 &lt;int&gt; | GENDER &lt;int&gt; | DISEASE.GROUPING.1 &lt;dbl&gt; | DISEASE.GROUPING.2 &lt;dbl&gt; | DISEASE.GROUPING.3 &lt;dbl&gt; | DISEASE.GROUPING.4 &lt;dbl&gt; | DISEASE.GROUPING.5 &lt;dbl&gt; | DISEASE.GROUPING.6 &lt;dbl&gt; | HTN &lt;dbl&gt; | IMMUNOCOMPROMISED &lt;dbl&gt; | ⋯ ⋯ | TTPA_MEAN &lt;dbl&gt; | UREA_MEAN &lt;dbl&gt; | DIMER_MEAN &lt;dbl&gt; | BLOODPRESSURE_DIASTOLIC_MEAN &lt;dbl&gt; | BLOODPRESSURE_SISTOLIC_MEAN &lt;dbl&gt; | HEART_RATE_MEAN &lt;dbl&gt; | RESPIRATORY_RATE_MEAN &lt;dbl&gt; | TEMPERATURE_MEAN &lt;dbl&gt; | OXYGEN_SATURATION_MEAN &lt;dbl&gt; | COVID &lt;int&gt; |\n|---|---|---|---|---|---|---|---|---|---|---|---|---|---|---|---|---|---|---|---|---|---|\n| 1 | 1 | 0 | 0 | 0 | 0 | 0 | 1 | 1 | 0 | 0 | ⋯ | -0.8466329 | -0.8746988 | -0.9780288 |  0.08641975 | -0.23076923 | -0.2830189 | -0.5932203 | -0.28571429 | 0.7368421 | 0 |\n| 2 | 1 | 0 | 0 | 0 | 0 | 0 | 1 | 1 | 0 | 0 | ⋯ | -0.8466329 | -0.8746988 | -0.9780288 |  0.33333333 | -0.23076923 | -0.1320755 | -0.5932203 |  0.53571429 | 0.5789474 | 0 |\n| 3 | 1 | 0 | 0 | 0 | 0 | 0 | 1 | 1 | 0 | 0 | ⋯ | -0.8256131 | -0.8361446 | -0.9949119 | -0.10017217 | -0.37440476 | -0.2830189 | -0.5028249 |  0.03571429 | 0.7368421 | 0 |\n| 4 | 1 | 0 | 0 | 0 | 0 | 0 | 1 | 1 | 0 | 0 | ⋯ | -0.8466329 | -0.8746988 | -0.9780288 | -0.10017217 | -0.37440476 | -0.2830189 | -0.5028249 | -0.10714286 | 0.7368421 | 0 |\n| 5 | 1 | 0 | 0 | 0 | 0 | 0 | 1 | 1 | 0 | 0 | ⋯ | -0.8466329 | -0.8361446 | -0.9967621 | -0.24302135 | -0.33853733 | -0.2130310 | -0.3178592 |  0.03377903 | 0.6659321 | 1 |\n| 6 | 1 | 1 | 0 | 0 | 0 | 0 | 0 | 0 | 1 | 1 | ⋯ | -0.8466329 | -0.8746988 | -0.9780288 | -0.28395062 | -0.04615385 |  0.1886792 |  0.8305085 | -0.10714286 | 1.0000000 | 1 |\n\n",
            "text/latex": "A data.frame: 6 × 54\n\\begin{tabular}{r|lllllllllllllllllllll}\n  & AGE\\_ABOVE65 & GENDER & DISEASE.GROUPING.1 & DISEASE.GROUPING.2 & DISEASE.GROUPING.3 & DISEASE.GROUPING.4 & DISEASE.GROUPING.5 & DISEASE.GROUPING.6 & HTN & IMMUNOCOMPROMISED & ⋯ & TTPA\\_MEAN & UREA\\_MEAN & DIMER\\_MEAN & BLOODPRESSURE\\_DIASTOLIC\\_MEAN & BLOODPRESSURE\\_SISTOLIC\\_MEAN & HEART\\_RATE\\_MEAN & RESPIRATORY\\_RATE\\_MEAN & TEMPERATURE\\_MEAN & OXYGEN\\_SATURATION\\_MEAN & COVID\\\\\n  & <int> & <int> & <dbl> & <dbl> & <dbl> & <dbl> & <dbl> & <dbl> & <dbl> & <dbl> & ⋯ & <dbl> & <dbl> & <dbl> & <dbl> & <dbl> & <dbl> & <dbl> & <dbl> & <dbl> & <int>\\\\\n\\hline\n\t1 & 1 & 0 & 0 & 0 & 0 & 0 & 1 & 1 & 0 & 0 & ⋯ & -0.8466329 & -0.8746988 & -0.9780288 &  0.08641975 & -0.23076923 & -0.2830189 & -0.5932203 & -0.28571429 & 0.7368421 & 0\\\\\n\t2 & 1 & 0 & 0 & 0 & 0 & 0 & 1 & 1 & 0 & 0 & ⋯ & -0.8466329 & -0.8746988 & -0.9780288 &  0.33333333 & -0.23076923 & -0.1320755 & -0.5932203 &  0.53571429 & 0.5789474 & 0\\\\\n\t3 & 1 & 0 & 0 & 0 & 0 & 0 & 1 & 1 & 0 & 0 & ⋯ & -0.8256131 & -0.8361446 & -0.9949119 & -0.10017217 & -0.37440476 & -0.2830189 & -0.5028249 &  0.03571429 & 0.7368421 & 0\\\\\n\t4 & 1 & 0 & 0 & 0 & 0 & 0 & 1 & 1 & 0 & 0 & ⋯ & -0.8466329 & -0.8746988 & -0.9780288 & -0.10017217 & -0.37440476 & -0.2830189 & -0.5028249 & -0.10714286 & 0.7368421 & 0\\\\\n\t5 & 1 & 0 & 0 & 0 & 0 & 0 & 1 & 1 & 0 & 0 & ⋯ & -0.8466329 & -0.8361446 & -0.9967621 & -0.24302135 & -0.33853733 & -0.2130310 & -0.3178592 &  0.03377903 & 0.6659321 & 1\\\\\n\t6 & 1 & 1 & 0 & 0 & 0 & 0 & 0 & 0 & 1 & 1 & ⋯ & -0.8466329 & -0.8746988 & -0.9780288 & -0.28395062 & -0.04615385 &  0.1886792 &  0.8305085 & -0.10714286 & 1.0000000 & 1\\\\\n\\end{tabular}\n",
            "text/plain": [
              "  AGE_ABOVE65 GENDER DISEASE.GROUPING.1 DISEASE.GROUPING.2 DISEASE.GROUPING.3\n",
              "1 1           0      0                  0                  0                 \n",
              "2 1           0      0                  0                  0                 \n",
              "3 1           0      0                  0                  0                 \n",
              "4 1           0      0                  0                  0                 \n",
              "5 1           0      0                  0                  0                 \n",
              "6 1           1      0                  0                  0                 \n",
              "  DISEASE.GROUPING.4 DISEASE.GROUPING.5 DISEASE.GROUPING.6 HTN\n",
              "1 0                  1                  1                  0  \n",
              "2 0                  1                  1                  0  \n",
              "3 0                  1                  1                  0  \n",
              "4 0                  1                  1                  0  \n",
              "5 0                  1                  1                  0  \n",
              "6 0                  0                  0                  1  \n",
              "  IMMUNOCOMPROMISED ⋯ TTPA_MEAN  UREA_MEAN  DIMER_MEAN\n",
              "1 0                 ⋯ -0.8466329 -0.8746988 -0.9780288\n",
              "2 0                 ⋯ -0.8466329 -0.8746988 -0.9780288\n",
              "3 0                 ⋯ -0.8256131 -0.8361446 -0.9949119\n",
              "4 0                 ⋯ -0.8466329 -0.8746988 -0.9780288\n",
              "5 0                 ⋯ -0.8466329 -0.8361446 -0.9967621\n",
              "6 1                 ⋯ -0.8466329 -0.8746988 -0.9780288\n",
              "  BLOODPRESSURE_DIASTOLIC_MEAN BLOODPRESSURE_SISTOLIC_MEAN HEART_RATE_MEAN\n",
              "1  0.08641975                  -0.23076923                 -0.2830189     \n",
              "2  0.33333333                  -0.23076923                 -0.1320755     \n",
              "3 -0.10017217                  -0.37440476                 -0.2830189     \n",
              "4 -0.10017217                  -0.37440476                 -0.2830189     \n",
              "5 -0.24302135                  -0.33853733                 -0.2130310     \n",
              "6 -0.28395062                  -0.04615385                  0.1886792     \n",
              "  RESPIRATORY_RATE_MEAN TEMPERATURE_MEAN OXYGEN_SATURATION_MEAN COVID\n",
              "1 -0.5932203            -0.28571429      0.7368421              0    \n",
              "2 -0.5932203             0.53571429      0.5789474              0    \n",
              "3 -0.5028249             0.03571429      0.7368421              0    \n",
              "4 -0.5028249            -0.10714286      0.7368421              0    \n",
              "5 -0.3178592             0.03377903      0.6659321              1    \n",
              "6  0.8305085            -0.10714286      1.0000000              1    "
            ]
          },
          "metadata": {}
        }
      ]
    },
    {
      "cell_type": "code",
      "source": [
        "colnames(patdata)"
      ],
      "metadata": {
        "id": "ZkisRSS8fQP5",
        "colab": {
          "base_uri": "https://localhost:8080/",
          "height": 156
        },
        "outputId": "e949073c-d1fa-4dc5-ba2d-1162d143ef2b"
      },
      "execution_count": null,
      "outputs": [
        {
          "output_type": "display_data",
          "data": {
            "text/html": [
              "<style>\n",
              ".list-inline {list-style: none; margin:0; padding: 0}\n",
              ".list-inline>li {display: inline-block}\n",
              ".list-inline>li:not(:last-child)::after {content: \"\\00b7\"; padding: 0 .5ex}\n",
              "</style>\n",
              "<ol class=list-inline><li>'AGE_ABOVE65'</li><li>'GENDER'</li><li>'DISEASE.GROUPING.1'</li><li>'DISEASE.GROUPING.2'</li><li>'DISEASE.GROUPING.3'</li><li>'DISEASE.GROUPING.4'</li><li>'DISEASE.GROUPING.5'</li><li>'DISEASE.GROUPING.6'</li><li>'HTN'</li><li>'IMMUNOCOMPROMISED'</li><li>'OTHER'</li><li>'ALBUMIN_MEAN'</li><li>'BE_ARTERIAL_MEAN'</li><li>'BE_VENOUS_MEAN'</li><li>'BIC_ARTERIAL_MEAN'</li><li>'BIC_VENOUS_MEAN'</li><li>'BILLIRUBIN_MEAN'</li><li>'BLAST_MEAN'</li><li>'CALCIUM_MEAN'</li><li>'CREATININ_MEAN'</li><li>'FFA_MEAN'</li><li>'GGT_MEAN'</li><li>'GLUCOSE_MEAN'</li><li>'HEMATOCRITE_MEAN'</li><li>'HEMOGLOBIN_MEAN'</li><li>'INR_MEAN'</li><li>'LACTATE_MEAN'</li><li>'LEUKOCYTES_MEAN'</li><li>'LINFOCITOS_MEAN'</li><li>'NEUTROPHILES_MEAN'</li><li>'P02_ARTERIAL_MEAN'</li><li>'P02_VENOUS_MEAN'</li><li>'PC02_ARTERIAL_MEAN'</li><li>'PC02_VENOUS_MEAN'</li><li>'PCR_MEAN'</li><li>'PH_ARTERIAL_MEAN'</li><li>'PH_VENOUS_MEAN'</li><li>'PLATELETS_MEAN'</li><li>'POTASSIUM_MEAN'</li><li>'SAT02_ARTERIAL_MEAN'</li><li>'SAT02_VENOUS_MEAN'</li><li>'SODIUM_MEAN'</li><li>'TGO_MEAN'</li><li>'TGP_MEAN'</li><li>'TTPA_MEAN'</li><li>'UREA_MEAN'</li><li>'DIMER_MEAN'</li><li>'BLOODPRESSURE_DIASTOLIC_MEAN'</li><li>'BLOODPRESSURE_SISTOLIC_MEAN'</li><li>'HEART_RATE_MEAN'</li><li>'RESPIRATORY_RATE_MEAN'</li><li>'TEMPERATURE_MEAN'</li><li>'OXYGEN_SATURATION_MEAN'</li><li>'COVID'</li></ol>\n"
            ],
            "text/markdown": "1. 'AGE_ABOVE65'\n2. 'GENDER'\n3. 'DISEASE.GROUPING.1'\n4. 'DISEASE.GROUPING.2'\n5. 'DISEASE.GROUPING.3'\n6. 'DISEASE.GROUPING.4'\n7. 'DISEASE.GROUPING.5'\n8. 'DISEASE.GROUPING.6'\n9. 'HTN'\n10. 'IMMUNOCOMPROMISED'\n11. 'OTHER'\n12. 'ALBUMIN_MEAN'\n13. 'BE_ARTERIAL_MEAN'\n14. 'BE_VENOUS_MEAN'\n15. 'BIC_ARTERIAL_MEAN'\n16. 'BIC_VENOUS_MEAN'\n17. 'BILLIRUBIN_MEAN'\n18. 'BLAST_MEAN'\n19. 'CALCIUM_MEAN'\n20. 'CREATININ_MEAN'\n21. 'FFA_MEAN'\n22. 'GGT_MEAN'\n23. 'GLUCOSE_MEAN'\n24. 'HEMATOCRITE_MEAN'\n25. 'HEMOGLOBIN_MEAN'\n26. 'INR_MEAN'\n27. 'LACTATE_MEAN'\n28. 'LEUKOCYTES_MEAN'\n29. 'LINFOCITOS_MEAN'\n30. 'NEUTROPHILES_MEAN'\n31. 'P02_ARTERIAL_MEAN'\n32. 'P02_VENOUS_MEAN'\n33. 'PC02_ARTERIAL_MEAN'\n34. 'PC02_VENOUS_MEAN'\n35. 'PCR_MEAN'\n36. 'PH_ARTERIAL_MEAN'\n37. 'PH_VENOUS_MEAN'\n38. 'PLATELETS_MEAN'\n39. 'POTASSIUM_MEAN'\n40. 'SAT02_ARTERIAL_MEAN'\n41. 'SAT02_VENOUS_MEAN'\n42. 'SODIUM_MEAN'\n43. 'TGO_MEAN'\n44. 'TGP_MEAN'\n45. 'TTPA_MEAN'\n46. 'UREA_MEAN'\n47. 'DIMER_MEAN'\n48. 'BLOODPRESSURE_DIASTOLIC_MEAN'\n49. 'BLOODPRESSURE_SISTOLIC_MEAN'\n50. 'HEART_RATE_MEAN'\n51. 'RESPIRATORY_RATE_MEAN'\n52. 'TEMPERATURE_MEAN'\n53. 'OXYGEN_SATURATION_MEAN'\n54. 'COVID'\n\n\n",
            "text/latex": "\\begin{enumerate*}\n\\item 'AGE\\_ABOVE65'\n\\item 'GENDER'\n\\item 'DISEASE.GROUPING.1'\n\\item 'DISEASE.GROUPING.2'\n\\item 'DISEASE.GROUPING.3'\n\\item 'DISEASE.GROUPING.4'\n\\item 'DISEASE.GROUPING.5'\n\\item 'DISEASE.GROUPING.6'\n\\item 'HTN'\n\\item 'IMMUNOCOMPROMISED'\n\\item 'OTHER'\n\\item 'ALBUMIN\\_MEAN'\n\\item 'BE\\_ARTERIAL\\_MEAN'\n\\item 'BE\\_VENOUS\\_MEAN'\n\\item 'BIC\\_ARTERIAL\\_MEAN'\n\\item 'BIC\\_VENOUS\\_MEAN'\n\\item 'BILLIRUBIN\\_MEAN'\n\\item 'BLAST\\_MEAN'\n\\item 'CALCIUM\\_MEAN'\n\\item 'CREATININ\\_MEAN'\n\\item 'FFA\\_MEAN'\n\\item 'GGT\\_MEAN'\n\\item 'GLUCOSE\\_MEAN'\n\\item 'HEMATOCRITE\\_MEAN'\n\\item 'HEMOGLOBIN\\_MEAN'\n\\item 'INR\\_MEAN'\n\\item 'LACTATE\\_MEAN'\n\\item 'LEUKOCYTES\\_MEAN'\n\\item 'LINFOCITOS\\_MEAN'\n\\item 'NEUTROPHILES\\_MEAN'\n\\item 'P02\\_ARTERIAL\\_MEAN'\n\\item 'P02\\_VENOUS\\_MEAN'\n\\item 'PC02\\_ARTERIAL\\_MEAN'\n\\item 'PC02\\_VENOUS\\_MEAN'\n\\item 'PCR\\_MEAN'\n\\item 'PH\\_ARTERIAL\\_MEAN'\n\\item 'PH\\_VENOUS\\_MEAN'\n\\item 'PLATELETS\\_MEAN'\n\\item 'POTASSIUM\\_MEAN'\n\\item 'SAT02\\_ARTERIAL\\_MEAN'\n\\item 'SAT02\\_VENOUS\\_MEAN'\n\\item 'SODIUM\\_MEAN'\n\\item 'TGO\\_MEAN'\n\\item 'TGP\\_MEAN'\n\\item 'TTPA\\_MEAN'\n\\item 'UREA\\_MEAN'\n\\item 'DIMER\\_MEAN'\n\\item 'BLOODPRESSURE\\_DIASTOLIC\\_MEAN'\n\\item 'BLOODPRESSURE\\_SISTOLIC\\_MEAN'\n\\item 'HEART\\_RATE\\_MEAN'\n\\item 'RESPIRATORY\\_RATE\\_MEAN'\n\\item 'TEMPERATURE\\_MEAN'\n\\item 'OXYGEN\\_SATURATION\\_MEAN'\n\\item 'COVID'\n\\end{enumerate*}\n",
            "text/plain": [
              " [1] \"AGE_ABOVE65\"                  \"GENDER\"                      \n",
              " [3] \"DISEASE.GROUPING.1\"           \"DISEASE.GROUPING.2\"          \n",
              " [5] \"DISEASE.GROUPING.3\"           \"DISEASE.GROUPING.4\"          \n",
              " [7] \"DISEASE.GROUPING.5\"           \"DISEASE.GROUPING.6\"          \n",
              " [9] \"HTN\"                          \"IMMUNOCOMPROMISED\"           \n",
              "[11] \"OTHER\"                        \"ALBUMIN_MEAN\"                \n",
              "[13] \"BE_ARTERIAL_MEAN\"             \"BE_VENOUS_MEAN\"              \n",
              "[15] \"BIC_ARTERIAL_MEAN\"            \"BIC_VENOUS_MEAN\"             \n",
              "[17] \"BILLIRUBIN_MEAN\"              \"BLAST_MEAN\"                  \n",
              "[19] \"CALCIUM_MEAN\"                 \"CREATININ_MEAN\"              \n",
              "[21] \"FFA_MEAN\"                     \"GGT_MEAN\"                    \n",
              "[23] \"GLUCOSE_MEAN\"                 \"HEMATOCRITE_MEAN\"            \n",
              "[25] \"HEMOGLOBIN_MEAN\"              \"INR_MEAN\"                    \n",
              "[27] \"LACTATE_MEAN\"                 \"LEUKOCYTES_MEAN\"             \n",
              "[29] \"LINFOCITOS_MEAN\"              \"NEUTROPHILES_MEAN\"           \n",
              "[31] \"P02_ARTERIAL_MEAN\"            \"P02_VENOUS_MEAN\"             \n",
              "[33] \"PC02_ARTERIAL_MEAN\"           \"PC02_VENOUS_MEAN\"            \n",
              "[35] \"PCR_MEAN\"                     \"PH_ARTERIAL_MEAN\"            \n",
              "[37] \"PH_VENOUS_MEAN\"               \"PLATELETS_MEAN\"              \n",
              "[39] \"POTASSIUM_MEAN\"               \"SAT02_ARTERIAL_MEAN\"         \n",
              "[41] \"SAT02_VENOUS_MEAN\"            \"SODIUM_MEAN\"                 \n",
              "[43] \"TGO_MEAN\"                     \"TGP_MEAN\"                    \n",
              "[45] \"TTPA_MEAN\"                    \"UREA_MEAN\"                   \n",
              "[47] \"DIMER_MEAN\"                   \"BLOODPRESSURE_DIASTOLIC_MEAN\"\n",
              "[49] \"BLOODPRESSURE_SISTOLIC_MEAN\"  \"HEART_RATE_MEAN\"             \n",
              "[51] \"RESPIRATORY_RATE_MEAN\"        \"TEMPERATURE_MEAN\"            \n",
              "[53] \"OXYGEN_SATURATION_MEAN\"       \"COVID\"                       "
            ]
          },
          "metadata": {}
        }
      ]
    },
    {
      "cell_type": "code",
      "source": [
        "n <- patdata[,c(1:11,54)]\n",
        "cn <- colnames(n)\n",
        "patdata[cn] <- lapply(patdata[cn], factor)\n",
        "str(patdata)"
      ],
      "metadata": {
        "id": "9bZdfoXFggeV",
        "colab": {
          "base_uri": "https://localhost:8080/"
        },
        "outputId": "df6f068c-7762-46d7-c7d8-62c230e2c292"
      },
      "execution_count": null,
      "outputs": [
        {
          "output_type": "stream",
          "name": "stdout",
          "text": [
            "'data.frame':\t1925 obs. of  54 variables:\n",
            " $ AGE_ABOVE65                 : Factor w/ 2 levels \"0\",\"1\": 2 2 2 2 2 2 2 2 2 2 ...\n",
            " $ GENDER                      : Factor w/ 2 levels \"0\",\"1\": 1 1 1 1 1 2 2 2 2 2 ...\n",
            " $ DISEASE.GROUPING.1          : Factor w/ 2 levels \"0\",\"1\": 1 1 1 1 1 1 1 1 1 1 ...\n",
            " $ DISEASE.GROUPING.2          : Factor w/ 2 levels \"0\",\"1\": 1 1 1 1 1 1 1 1 1 1 ...\n",
            " $ DISEASE.GROUPING.3          : Factor w/ 2 levels \"0\",\"1\": 1 1 1 1 1 1 1 1 1 1 ...\n",
            " $ DISEASE.GROUPING.4          : Factor w/ 2 levels \"0\",\"1\": 1 1 1 1 1 1 1 1 1 1 ...\n",
            " $ DISEASE.GROUPING.5          : Factor w/ 2 levels \"0\",\"1\": 2 2 2 2 2 1 1 1 1 2 ...\n",
            " $ DISEASE.GROUPING.6          : Factor w/ 2 levels \"0\",\"1\": 2 2 2 2 2 1 1 1 1 1 ...\n",
            " $ HTN                         : Factor w/ 2 levels \"0\",\"1\": 1 1 1 1 1 2 2 2 2 2 ...\n",
            " $ IMMUNOCOMPROMISED           : Factor w/ 2 levels \"0\",\"1\": 1 1 1 1 1 2 2 2 2 2 ...\n",
            " $ OTHER                       : Factor w/ 2 levels \"0\",\"1\": 2 2 2 2 2 2 2 2 2 2 ...\n",
            " $ ALBUMIN_MEAN                : num  0.605 0.605 0.605 0.605 0 ...\n",
            " $ BE_ARTERIAL_MEAN            : num  -1 -1 -1 -1 -0.872 ...\n",
            " $ BE_VENOUS_MEAN              : num  -1 -1 -1 -1 -0.864 ...\n",
            " $ BIC_ARTERIAL_MEAN           : num  -0.317 -0.317 -0.317 -0.317 -0.317 ...\n",
            " $ BIC_VENOUS_MEAN             : num  -0.317 -0.317 -0.317 -0.317 -0.415 ...\n",
            " $ BILLIRUBIN_MEAN             : num  -0.939 -0.939 -0.939 -0.939 -0.979 ...\n",
            " $ BLAST_MEAN                  : num  -1 -1 -1 -1 -1 -1 -1 -1 -1 -1 ...\n",
            " $ CALCIUM_MEAN                : num  0.357 0.357 0.184 0.357 0.327 ...\n",
            " $ CREATININ_MEAN              : num  -0.909 -0.909 -0.868 -0.909 -0.926 ...\n",
            " $ FFA_MEAN                    : num  -0.742 -0.742 -0.742 -0.742 -0.859 ...\n",
            " $ GGT_MEAN                    : num  -0.959 -0.959 -0.945 -0.959 -0.669 ...\n",
            " $ GLUCOSE_MEAN                : num  -0.892 -0.892 -0.892 -0.892 -0.892 ...\n",
            " $ HEMATOCRITE_MEAN            : num  -0.1321 -0.1321 0.0901 -0.1321 -0.3208 ...\n",
            " $ HEMOGLOBIN_MEAN             : num  -0.183 -0.183 0.11 -0.183 -0.354 ...\n",
            " $ INR_MEAN                    : num  -0.96 -0.96 -0.932 -0.96 -0.98 ...\n",
            " $ LACTATE_MEAN                : num  1 1 1 1 -0.963 ...\n",
            " $ LEUKOCYTES_MEAN             : num  -0.774 -0.774 -0.836 -0.774 -0.763 ...\n",
            " $ LINFOCITOS_MEAN             : num  -0.737 -0.737 -0.915 -0.737 -0.643 ...\n",
            " $ NEUTROPHILES_MEAN           : num  -0.847 -0.847 -0.869 -0.847 -0.869 ...\n",
            " $ P02_ARTERIAL_MEAN           : num  -0.171 -0.171 -0.171 -0.171 -0.366 ...\n",
            " $ P02_VENOUS_MEAN             : num  -0.704 -0.704 -0.704 -0.704 -0.231 ...\n",
            " $ PC02_ARTERIAL_MEAN          : num  -0.779 -0.779 -0.779 -0.779 -0.876 ...\n",
            " $ PC02_VENOUS_MEAN            : num  -0.755 -0.755 -0.755 -0.755 -0.816 ...\n",
            " $ PCR_MEAN                    : num  -0.943 -0.943 -0.875 -0.943 -1 ...\n",
            " $ PH_ARTERIAL_MEAN            : num  0.234 0.234 0.234 0.234 0.574 ...\n",
            " $ PH_VENOUS_MEAN              : num  0.364 0.364 0.364 0.364 0.394 ...\n",
            " $ PLATELETS_MEAN              : num  -0.463 -0.463 -0.541 -0.463 -0.471 ...\n",
            " $ POTASSIUM_MEAN              : num  -0.519 -0.519 -0.519 -0.519 -0.667 ...\n",
            " $ SAT02_ARTERIAL_MEAN         : num  0.939 0.939 0.939 0.939 0.848 ...\n",
            " $ SAT02_VENOUS_MEAN           : num  0.346 0.346 0.346 0.346 0.926 ...\n",
            " $ SODIUM_MEAN                 : num  -0.0286 -0.0286 -0.0286 -0.0286 0.1429 ...\n",
            " $ TGO_MEAN                    : num  -0.995 -0.995 -0.997 -0.995 -0.999 ...\n",
            " $ TGP_MEAN                    : num  -0.987 -0.987 -0.991 -0.987 -0.984 ...\n",
            " $ TTPA_MEAN                   : num  -0.847 -0.847 -0.826 -0.847 -0.847 ...\n",
            " $ UREA_MEAN                   : num  -0.875 -0.875 -0.836 -0.875 -0.836 ...\n",
            " $ DIMER_MEAN                  : num  -0.978 -0.978 -0.995 -0.978 -0.997 ...\n",
            " $ BLOODPRESSURE_DIASTOLIC_MEAN: num  0.0864 0.3333 -0.1002 -0.1002 -0.243 ...\n",
            " $ BLOODPRESSURE_SISTOLIC_MEAN : num  -0.231 -0.231 -0.374 -0.374 -0.339 ...\n",
            " $ HEART_RATE_MEAN             : num  -0.283 -0.132 -0.283 -0.283 -0.213 ...\n",
            " $ RESPIRATORY_RATE_MEAN       : num  -0.593 -0.593 -0.503 -0.503 -0.318 ...\n",
            " $ TEMPERATURE_MEAN            : num  -0.2857 0.5357 0.0357 -0.1071 0.0338 ...\n",
            " $ OXYGEN_SATURATION_MEAN      : num  0.737 0.579 0.737 0.737 0.666 ...\n",
            " $ COVID                       : Factor w/ 2 levels \"0\",\"1\": 1 1 1 1 2 2 2 2 2 2 ...\n"
          ]
        }
      ]
    },
    {
      "cell_type": "markdown",
      "source": [
        "## Splitting Data"
      ],
      "metadata": {
        "id": "8JmrkUYclHcH"
      }
    },
    {
      "cell_type": "code",
      "source": [
        "split <- sample.split(patdata, SplitRatio = 0.8)\n",
        "train_reg <- subset(patdata, split == \"TRUE\")\n",
        "test_reg <- subset(patdata, split == \"FALSE\")\n",
        "print(head(train_reg,5))\n",
        "print(head(test_reg,5))"
      ],
      "metadata": {
        "colab": {
          "base_uri": "https://localhost:8080/"
        },
        "id": "EpIQzGLudPF1",
        "outputId": "c8bb0e47-e6b6-4619-c49b-6f64854e1e94"
      },
      "execution_count": null,
      "outputs": [
        {
          "output_type": "stream",
          "name": "stdout",
          "text": [
            "  AGE_ABOVE65 GENDER DISEASE.GROUPING.1 DISEASE.GROUPING.2 DISEASE.GROUPING.3\n",
            "1           1      0                  0                  0                  0\n",
            "2           1      0                  0                  0                  0\n",
            "3           1      0                  0                  0                  0\n",
            "6           1      1                  0                  0                  0\n",
            "7           1      1                  0                  0                  0\n",
            "  DISEASE.GROUPING.4 DISEASE.GROUPING.5 DISEASE.GROUPING.6 HTN\n",
            "1                  0                  1                  1   0\n",
            "2                  0                  1                  1   0\n",
            "3                  0                  1                  1   0\n",
            "6                  0                  0                  0   1\n",
            "7                  0                  0                  0   1\n",
            "  IMMUNOCOMPROMISED OTHER ALBUMIN_MEAN BE_ARTERIAL_MEAN BE_VENOUS_MEAN\n",
            "1                 0     1    0.6052632               -1             -1\n",
            "2                 0     1    0.6052632               -1             -1\n",
            "3                 0     1    0.6052632               -1             -1\n",
            "6                 1     1    0.6052632               -1             -1\n",
            "7                 1     1   -0.2105263               -1             -1\n",
            "  BIC_ARTERIAL_MEAN BIC_VENOUS_MEAN BILLIRUBIN_MEAN BLAST_MEAN CALCIUM_MEAN\n",
            "1        -0.3170732      -0.3170732      -0.9389499         -1    0.3571429\n",
            "2        -0.3170732      -0.3170732      -0.9389499         -1    0.3571429\n",
            "3        -0.3170732      -0.3170732      -0.9389499         -1    0.1836735\n",
            "6        -0.3170732      -0.3170732      -0.9389499         -1    0.3571429\n",
            "7        -0.3170732      -0.2195122      -0.9675563         -1    0.5306122\n",
            "  CREATININ_MEAN   FFA_MEAN   GGT_MEAN GLUCOSE_MEAN HEMATOCRITE_MEAN\n",
            "1     -0.9094126 -0.7420043 -0.9585280   -0.8919926      -0.13207547\n",
            "2     -0.9094126 -0.7420043 -0.9585280   -0.8919926      -0.13207547\n",
            "3     -0.8683652 -0.7420043 -0.9450935   -0.8919926       0.09014675\n",
            "6     -0.9094126 -0.7420043 -0.9585280   -0.8919926      -0.13207547\n",
            "7     -0.6150035 -0.7697228 -0.9824766   -0.8919926      -0.87002096\n",
            "  HEMOGLOBIN_MEAN   INR_MEAN LACTATE_MEAN LEUKOCYTES_MEAN LINFOCITOS_MEAN\n",
            "1      -0.1829268 -0.9598494            1      -0.7736578      -0.7365145\n",
            "2      -0.1829268 -0.9598494            1      -0.7736578      -0.7365145\n",
            "3       0.1097561 -0.9322459            1      -0.8358440      -0.9149378\n",
            "6      -0.1829268 -0.9598494            1      -0.7736578      -0.7365145\n",
            "7      -0.9146341 -0.9598494           -1      -0.5237543      -0.8589212\n",
            "  NEUTROPHILES_MEAN P02_ARTERIAL_MEAN P02_VENOUS_MEAN PC02_ARTERIAL_MEAN\n",
            "1        -0.8471389        -0.1707317       -0.704142         -0.7793103\n",
            "2        -0.8471389        -0.1707317       -0.704142         -0.7793103\n",
            "3        -0.8687475        -0.1707317       -0.704142         -0.7793103\n",
            "6        -0.8471389        -0.1707317       -0.704142         -0.7793103\n",
            "7        -0.5570228        -0.1707317        1.000000         -0.7793103\n",
            "  PC02_VENOUS_MEAN   PCR_MEAN PH_ARTERIAL_MEAN PH_VENOUS_MEAN PLATELETS_MEAN\n",
            "1       -0.7546012 -0.9429112        0.2340426     0.36363636     -0.4632844\n",
            "2       -0.7546012 -0.9429112        0.2340426     0.36363636     -0.4632844\n",
            "3       -0.7546012 -0.8752363        0.2340426     0.36363636     -0.5407210\n",
            "6       -0.7546012 -0.9429112        0.2340426     0.36363636     -0.4632844\n",
            "7       -0.4969325 -0.8344045        0.2340426    -0.06060606     -0.6368491\n",
            "  POTASSIUM_MEAN SAT02_ARTERIAL_MEAN SAT02_VENOUS_MEAN SODIUM_MEAN   TGO_MEAN\n",
            "1     -0.5185185           0.9393939          0.345679 -0.02857143 -0.9954278\n",
            "2     -0.5185185           0.9393939          0.345679 -0.02857143 -0.9954278\n",
            "3     -0.5185185           0.9393939          0.345679 -0.02857143 -0.9972007\n",
            "6     -0.5185185           0.9393939          0.345679 -0.02857143 -0.9954278\n",
            "7     -0.6296296           0.9393939          1.000000 -0.25714286 -0.9970141\n",
            "    TGP_MEAN  TTPA_MEAN  UREA_MEAN DIMER_MEAN BLOODPRESSURE_DIASTOLIC_MEAN\n",
            "1 -0.9866616 -0.8466329 -0.8746988 -0.9780288                   0.08641975\n",
            "2 -0.9866616 -0.8466329 -0.8746988 -0.9780288                   0.33333333\n",
            "3 -0.9908537 -0.8256131 -0.8361446 -0.9949119                  -0.10017217\n",
            "6 -0.9866616 -0.8466329 -0.8746988 -0.9780288                  -0.28395062\n",
            "7 -0.9939024 -0.8466329 -0.5614458 -0.9780288                  -0.40740741\n",
            "  BLOODPRESSURE_SISTOLIC_MEAN HEART_RATE_MEAN RESPIRATORY_RATE_MEAN\n",
            "1                 -0.23076923      -0.2830189            -0.5932203\n",
            "2                 -0.23076923      -0.1320755            -0.5932203\n",
            "3                 -0.37440476      -0.2830189            -0.5028249\n",
            "6                 -0.04615385       0.1886792             0.8305085\n",
            "7                  0.89230769      -0.2264151            -0.3898305\n",
            "  TEMPERATURE_MEAN OXYGEN_SATURATION_MEAN COVID\n",
            "1      -0.28571429              0.7368421     0\n",
            "2       0.53571429              0.5789474     0\n",
            "3       0.03571429              0.7368421     0\n",
            "6      -0.10714286              1.0000000     1\n",
            "7      -0.10714286              0.8947368     1\n",
            "   AGE_ABOVE65 GENDER DISEASE.GROUPING.1 DISEASE.GROUPING.2 DISEASE.GROUPING.3\n",
            "4            1      0                  0                  0                  0\n",
            "5            1      0                  0                  0                  0\n",
            "13           0      0                  0                  0                  0\n",
            "20           0      1                  0                  0                  0\n",
            "23           0      0                  0                  0                  0\n",
            "   DISEASE.GROUPING.4 DISEASE.GROUPING.5 DISEASE.GROUPING.6 HTN\n",
            "4                   0                  1                  1   0\n",
            "5                   0                  1                  1   0\n",
            "13                  0                  0                  0   0\n",
            "20                  0                  0                  0   0\n",
            "23                  0                  0                  0   0\n",
            "   IMMUNOCOMPROMISED OTHER ALBUMIN_MEAN BE_ARTERIAL_MEAN BE_VENOUS_MEAN\n",
            "4                  0     1    0.6052632       -1.0000000     -1.0000000\n",
            "5                  0     1    0.0000000       -0.8716578     -0.8638743\n",
            "13                 0     1    0.6052632       -1.0000000     -1.0000000\n",
            "20                 1     1   -0.2631579       -1.0000000     -1.0000000\n",
            "23                 0     0    0.6052632       -1.0000000     -1.0000000\n",
            "   BIC_ARTERIAL_MEAN BIC_VENOUS_MEAN BILLIRUBIN_MEAN BLAST_MEAN CALCIUM_MEAN\n",
            "4         -0.3170732      -0.3170732      -0.9389499         -1    0.3571429\n",
            "5         -0.3170732      -0.4146341      -0.9790686         -1    0.3265306\n",
            "13        -0.3170732      -0.3170732      -0.9389499         -1    0.3571429\n",
            "20        -0.3170732      -0.3170732      -0.9727891         -1    0.3265306\n",
            "23        -0.3170732      -0.3170732      -0.9389499         -1    0.3571429\n",
            "   CREATININ_MEAN   FFA_MEAN   GGT_MEAN GLUCOSE_MEAN HEMATOCRITE_MEAN\n",
            "4      -0.9094126 -0.7420043 -0.9585280   -0.8919926     -0.132075472\n",
            "5      -0.9263977 -0.8592751 -0.6693925   -0.8919926     -0.320754717\n",
            "13     -0.9094126 -0.7420043 -0.9585280   -0.8919926     -0.132075472\n",
            "20     -0.9688606 -0.1940299 -0.3165888   -0.8919926     -0.203354298\n",
            "23     -0.9084016 -0.7420043 -0.9585280   -0.8919926     -0.002096436\n",
            "   HEMOGLOBIN_MEAN   INR_MEAN LACTATE_MEAN LEUKOCYTES_MEAN LINFOCITOS_MEAN\n",
            "4      -0.18292683 -0.9598494    1.0000000      -0.7736578      -0.7365145\n",
            "5      -0.35365854 -0.9799247   -0.9630225      -0.7628428      -0.6431535\n",
            "13     -0.18292683 -0.9598494    1.0000000      -0.7736578      -0.7365145\n",
            "20     -0.21951219 -0.9598494   -0.8284209      -0.7292391      -0.8360996\n",
            "23      0.01995565 -0.9598494    1.0000000      -0.7350328      -0.6141079\n",
            "   NEUTROPHILES_MEAN P02_ARTERIAL_MEAN P02_VENOUS_MEAN PC02_ARTERIAL_MEAN\n",
            "4         -0.8471389        -0.1707317      -0.7041420         -0.7793103\n",
            "5         -0.8687475        -0.3658537      -0.2307692         -0.8758621\n",
            "13        -0.8471389        -0.1707317      -0.7041420         -0.7793103\n",
            "20        -0.7847139        -0.1707317      -0.6331361         -0.7793103\n",
            "23        -0.8128394        -0.1707317      -0.7041420         -0.7793103\n",
            "   PC02_VENOUS_MEAN   PCR_MEAN PH_ARTERIAL_MEAN PH_VENOUS_MEAN PLATELETS_MEAN\n",
            "4        -0.7546012 -0.9429112        0.2340426      0.3636364     -0.4632844\n",
            "5        -0.8159509 -1.0000000        0.5744681      0.3939394     -0.4712951\n",
            "13       -0.7546012 -0.9429112        0.2340426      0.3636364     -0.4632844\n",
            "20       -0.7791411 -0.5035917        0.2340426      0.3636364     -0.5647530\n",
            "23       -0.7546012 -0.9909263        0.2340426      0.3636364     -0.2283044\n",
            "   POTASSIUM_MEAN SAT02_ARTERIAL_MEAN SAT02_VENOUS_MEAN SODIUM_MEAN   TGO_MEAN\n",
            "4      -0.5185185           0.9393939         0.3456790 -0.02857143 -0.9954278\n",
            "5      -0.6666667           0.8484848         0.9259259  0.14285714 -0.9990669\n",
            "13     -0.5185185           0.9393939         0.3456790 -0.02857143 -0.9954278\n",
            "20     -0.7777778           0.9393939         0.5802469  0.20000000 -0.9895493\n",
            "23     -0.4814815           0.9393939         0.3456790  0.06666667 -0.9954278\n",
            "     TGP_MEAN  TTPA_MEAN  UREA_MEAN DIMER_MEAN BLOODPRESSURE_DIASTOLIC_MEAN\n",
            "4  -0.9866616 -0.8466329 -0.8746988 -0.9780288                 -0.100172167\n",
            "5  -0.9839939 -0.8466329 -0.8361446 -0.9967621                 -0.243021346\n",
            "13 -0.9866616 -0.8466329 -0.8746988 -0.9780288                 -0.489711934\n",
            "20 -0.9565549 -0.8466329 -0.9373494 -0.9780288                 -0.002798354\n",
            "23 -0.9866616 -0.8466329 -0.8795181 -0.9780288                  0.333333333\n",
            "   BLOODPRESSURE_SISTOLIC_MEAN HEART_RATE_MEAN RESPIRATORY_RATE_MEAN\n",
            "4                   -0.3744048     -0.28301887            -0.5028249\n",
            "5                   -0.3385373     -0.21303095            -0.3178592\n",
            "13                  -0.6854701     -0.04821803            -0.6459510\n",
            "20                  -0.5462564     -0.27018868            -0.5355932\n",
            "23                  -0.1538462      0.16037736            -0.5932203\n",
            "   TEMPERATURE_MEAN OXYGEN_SATURATION_MEAN COVID\n",
            "4       -0.10714286              0.7368421     0\n",
            "5        0.03377903              0.6659321     1\n",
            "13       0.03571429              0.9356725     0\n",
            "20       0.03357143              0.6940351     0\n",
            "23       0.28571429              0.8684211     0\n"
          ]
        }
      ]
    },
    {
      "cell_type": "markdown",
      "source": [
        "## Model Building"
      ],
      "metadata": {
        "id": "LmXWQZoAu6-l"
      }
    },
    {
      "cell_type": "code",
      "source": [
        "model_randomforest <- randomForest(COVID ~ ., data= train_reg, ntree = 200)"
      ],
      "metadata": {
        "id": "iviWaVBUvgQ2"
      },
      "execution_count": null,
      "outputs": []
    },
    {
      "cell_type": "code",
      "source": [
        "model_ypredict <- predict(model_randomforest,test_reg)"
      ],
      "metadata": {
        "id": "y-WHeYwWxEaG"
      },
      "execution_count": null,
      "outputs": []
    },
    {
      "cell_type": "code",
      "source": [
        "cm_model <- table(test_reg$COVID, model_ypredict)\n",
        "cm_model"
      ],
      "metadata": {
        "id": "rtIVX4USxP_W",
        "colab": {
          "base_uri": "https://localhost:8080/",
          "height": 86
        },
        "outputId": "ffb4d50c-6410-4ce2-c2e1-60aba7567b7b"
      },
      "execution_count": null,
      "outputs": [
        {
          "output_type": "display_data",
          "data": {
            "text/plain": [
              "   model_ypredict\n",
              "      0   1\n",
              "  0 275  11\n",
              "  1  37  71"
            ]
          },
          "metadata": {}
        }
      ]
    },
    {
      "cell_type": "code",
      "source": [
        "confusionMatrix(cm_model)"
      ],
      "metadata": {
        "id": "nSRJ9jt7xars",
        "colab": {
          "base_uri": "https://localhost:8080/",
          "height": 485
        },
        "outputId": "3bf78fe2-e48b-424f-f94b-72692756c978"
      },
      "execution_count": null,
      "outputs": [
        {
          "output_type": "display_data",
          "data": {
            "text/plain": [
              "Confusion Matrix and Statistics\n",
              "\n",
              "   model_ypredict\n",
              "      0   1\n",
              "  0 275  11\n",
              "  1  37  71\n",
              "                                          \n",
              "               Accuracy : 0.8782          \n",
              "                 95% CI : (0.8417, 0.9088)\n",
              "    No Information Rate : 0.7919          \n",
              "    P-Value [Acc > NIR] : 5.267e-06       \n",
              "                                          \n",
              "                  Kappa : 0.6691          \n",
              "                                          \n",
              " Mcnemar's Test P-Value : 0.000308        \n",
              "                                          \n",
              "            Sensitivity : 0.8814          \n",
              "            Specificity : 0.8659          \n",
              "         Pos Pred Value : 0.9615          \n",
              "         Neg Pred Value : 0.6574          \n",
              "             Prevalence : 0.7919          \n",
              "         Detection Rate : 0.6980          \n",
              "   Detection Prevalence : 0.7259          \n",
              "      Balanced Accuracy : 0.8736          \n",
              "                                          \n",
              "       'Positive' Class : 0               \n",
              "                                          "
            ]
          },
          "metadata": {}
        }
      ]
    },
    {
      "cell_type": "code",
      "source": [
        "plot(model_randomforest)"
      ],
      "metadata": {
        "id": "h2MICt7YxePw",
        "colab": {
          "base_uri": "https://localhost:8080/",
          "height": 437
        },
        "outputId": "c54b35af-70dd-4249-c06e-030b404d1351"
      },
      "execution_count": null,
      "outputs": [
        {
          "output_type": "display_data",
          "data": {
            "text/plain": [
              "Plot with title “model_randomforest”"
            ],
            "image/png": "[encoded data removed]"
          },
          "metadata": {
            "image/png": {
              "width": 420,
              "height": 420
            }
          }
        }
      ]
    },
    {
      "cell_type": "code",
      "source": [
        "classerror_model <- mean(model_ypredict != test_reg$COVID)\n",
        "print(paste(\"Accuracy Random Forest Classifier with ntree=200 (in %) = \", (1 - classerror_model)*100))\n",
        "acc_model <- (1 - classerror_model)*100"
      ],
      "metadata": {
        "id": "0XvM1jyLxhmY",
        "colab": {
          "base_uri": "https://localhost:8080/"
        },
        "outputId": "eb0d27b7-5182-47fb-bc26-9a84c564f928"
      },
      "execution_count": null,
      "outputs": [
        {
          "output_type": "stream",
          "name": "stdout",
          "text": [
            "[1] \"Accuracy Random Forest Classifier with ntree=200 (in %) =  87.8172588832487\"\n"
          ]
        }
      ]
    }
  ]
}